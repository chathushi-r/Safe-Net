{
 "cells": [
  {
   "cell_type": "code",
   "execution_count": null,
   "id": "b7fa87cd-b8b2-433b-b72b-ee6803bd8acd",
   "metadata": {},
   "outputs": [],
   "source": [
    "#import dependencies\n",
    "import numpy as np\n",
    "import pandas as pd\n",
    "import matplotlib.pyplot as plot\n",
    "from urllib.parse import urlparse\n",
    "from tld import get_tld, is_tld\n",
    "from sklearn.model_selection import train_test_split\n",
    "from sklearn.ensemble import RandomForestClassifier\n",
    "from sklearn.metrics import accuracy_score, recall_score, precision_score, f1_score, classification_report\n",
    "from sklearn.metrics import confusion_matrix, classification_report, accuracy_score"
   ]
  },
  {
   "cell_type": "code",
   "execution_count": null,
   "id": "4203fb2e",
   "metadata": {},
   "outputs": [],
   "source": [
    "#df1 = pd.read_csv('urldata.csv')\n",
    "#df2 = pd.read_csv('data.csv')\n",
    "#combined_df = pd.concat([df1, df2], ignore_index=True)\n",
    "#combined_df.to_csv('final_dataset.csv', index=False)"
   ]
  },
  {
   "cell_type": "code",
   "execution_count": null,
   "id": "93a86523-8ffa-48ab-a3e6-0683030a27cf",
   "metadata": {},
   "outputs": [],
   "source": [
    "#load dataset\n",
    "urlDataset = pd.read_csv('final_dataset.csv')\n",
    "#print dataset\n",
    "urlDataset.head()"
   ]
  },
  {
   "cell_type": "code",
   "execution_count": null,
   "id": "6c865789-7801-48ea-a2c1-89a1894ad1ea",
   "metadata": {},
   "outputs": [],
   "source": [
    "urlDataset.info()"
   ]
  },
  {
   "cell_type": "code",
   "execution_count": null,
   "id": "bce37509-6509-41ca-a5a6-d5266a9cda65",
   "metadata": {},
   "outputs": [],
   "source": [
    "#Add labels to the url type to catagorize the url type numerically\n",
    "urlDataset[\"urlType_numeric\"] = urlDataset[\"type\"].replace({\n",
    "    'benign':0,\n",
    "    'good':0,\n",
    "    'malicious':1,\n",
    "    'bad':1\n",
    "});\n",
    "urlDataset.head()"
   ]
  },
  {
   "cell_type": "code",
   "execution_count": null,
   "id": "1f9a7837-f0a0-447b-aa1a-99a78bee7b17",
   "metadata": {},
   "outputs": [],
   "source": [
    "import seaborn as sns\n",
    "count = urlDataset.urlType_numeric.value_counts()\n",
    "count"
   ]
  },
  {
   "cell_type": "code",
   "execution_count": null,
   "id": "a0c434d2-a57d-4599-a7be-760b41926a8f",
   "metadata": {},
   "outputs": [],
   "source": [
    "sns.barplot(x=count.index, y=count)\n",
    "plot.xlabel('Types')\n",
    "plot.ylabel('Count');"
   ]
  },
  {
   "cell_type": "code",
   "execution_count": null,
   "id": "5ae461bb-741a-4bb4-bda3-f748aca2422f",
   "metadata": {},
   "outputs": [],
   "source": [
    "#Lexical feature extraction\n",
    "\n",
    "#length of URL\n",
    "def getUrlLength(url):\n",
    "    return len(str(url))\n",
    "    \n",
    "#apply the function to all the urls in dataset\n",
    "urlDataset['urlLength'] = urlDataset['url'].apply(lambda x: getUrlLength(x)) \n",
    "\n",
    "urlDataset.head()"
   ]
  },
  {
   "cell_type": "code",
   "execution_count": null,
   "id": "17a802b3-b85c-4d88-8435-e619fe3802a5",
   "metadata": {},
   "outputs": [],
   "source": [
    "#length of hostname\n",
    "def getHostnameLength(url):\n",
    "    try:\n",
    "        parsedURL = urlparse(url)\n",
    "        return len(parsedURL.netloc)\n",
    "    except:\n",
    "        return 0\n",
    "\n",
    "#apply the function to all the urls in dataset\n",
    "urlDataset['hostnameLength'] = urlDataset['url'].apply(lambda x: getHostnameLength(x)) \n",
    "\n",
    "urlDataset.head()"
   ]
  },
  {
   "cell_type": "code",
   "execution_count": null,
   "id": "ba718c57-87de-47bb-b546-6323ca23fcda",
   "metadata": {},
   "outputs": [],
   "source": [
    "#length of path\n",
    "def getPathLength(url):\n",
    "    try:\n",
    "        return len(urlparse(url).path)\n",
    "    except:\n",
    "        return 0\n",
    "\n",
    "#apply the function to all the urls in dataset\n",
    "urlDataset['pathLength'] = urlDataset['url'].apply(lambda x: getPathLength(x)) \n",
    "\n",
    "urlDataset.head()"
   ]
  },
  {
   "cell_type": "code",
   "execution_count": null,
   "id": "252daaf1-20e9-45e0-bed3-21ae4c8c31e6",
   "metadata": {},
   "outputs": [],
   "source": [
    "#length of Top level domain\n",
    "def getTldLength(url):\n",
    "    try:\n",
    "        tld = get_tld(url, fail_silently=True,fix_protocol=True)\n",
    "        return len(tld)\n",
    "    except:\n",
    "        return 0\n",
    "\n",
    "#apply the function to all the urls in dataset\n",
    "urlDataset['tldLength'] = urlDataset['url'].apply(lambda x: getTldLength(x))  \n",
    "urlDataset.head()"
   ]
  },
  {
   "cell_type": "code",
   "execution_count": null,
   "id": "334cc613-5126-4293-bf77-1d5144dcbb7c",
   "metadata": {},
   "outputs": [],
   "source": [
    "#Number of character '-'\n",
    "def getNumOfHyphen(url):\n",
    "    return url.count('-')\n",
    "\n",
    "#apply the function to all the urls in dataset\n",
    "urlDataset['\"-\"'] = urlDataset['url'].apply(lambda x: getNumOfHyphen(x))  \n",
    "urlDataset.head()"
   ]
  },
  {
   "cell_type": "code",
   "execution_count": null,
   "id": "96350394-8703-4f33-a4d8-b3d6578cf5cd",
   "metadata": {},
   "outputs": [],
   "source": [
    "#Number of character '@'\n",
    "def getNumOfAt(url):\n",
    "    return url.count('@')\n",
    "\n",
    "#apply the function to all the urls in dataset\n",
    "urlDataset['\"@\"'] = urlDataset['url'].apply(lambda x: getNumOfAt(x))  \n",
    "urlDataset.head()"
   ]
  },
  {
   "cell_type": "code",
   "execution_count": null,
   "id": "c23b44af-ca8a-45c3-849f-9c7b9c71bf97",
   "metadata": {},
   "outputs": [],
   "source": [
    "#Number of character '?'\n",
    "def getNumOfQueMark(url):\n",
    "    return url.count('?')\n",
    "\n",
    "#apply the function to all the urls in dataset\n",
    "urlDataset['\"?\"'] = urlDataset['url'].apply(lambda x: getNumOfQueMark(x))  \n",
    "urlDataset.head()"
   ]
  },
  {
   "cell_type": "code",
   "execution_count": null,
   "id": "4c7cbbfc-d1fe-4cf4-b2f5-7c7fe4059394",
   "metadata": {},
   "outputs": [],
   "source": [
    "#Number of character '%'\n",
    "def getNumOfPercMark(url):\n",
    "    return url.count('%')\n",
    "\n",
    "#apply the function to all the urls in dataset\n",
    "urlDataset['\"%\"'] = urlDataset['url'].apply(lambda x: getNumOfPercMark(x))  \n",
    "urlDataset.head()"
   ]
  },
  {
   "cell_type": "code",
   "execution_count": null,
   "id": "3ee6ff0b-e030-4323-a912-125f1b076114",
   "metadata": {},
   "outputs": [],
   "source": [
    "#Number of character '/'\n",
    "def getNumOfSlash(url):\n",
    "    return url.count('/')\n",
    "\n",
    "#apply the function to all the urls in dataset\n",
    "urlDataset['\"/\"'] = urlDataset['url'].apply(lambda x: getNumOfSlash(x))  \n",
    "urlDataset.head()"
   ]
  },
  {
   "cell_type": "code",
   "execution_count": null,
   "id": "838debfd-926a-4f24-9214-1b6312c015d6",
   "metadata": {},
   "outputs": [],
   "source": [
    "#Number of character '.'\n",
    "def getNumOfFullstop(url):\n",
    "    return url.count('.')\n",
    "\n",
    "#apply the function to all the urls in dataset\n",
    "urlDataset['\".\"'] = urlDataset['url'].apply(lambda x: getNumOfFullstop(x))  \n",
    "urlDataset.head()"
   ]
  },
  {
   "cell_type": "code",
   "execution_count": null,
   "id": "401be056-01ca-4e43-889e-20febf4ccd4e",
   "metadata": {},
   "outputs": [],
   "source": [
    "#Number of character '&'\n",
    "def getNumOfAmpersand(url):\n",
    "    return url.count('&')\n",
    "\n",
    "#apply the function to all the urls in dataset\n",
    "urlDataset['\"&\"'] = urlDataset['url'].apply(lambda x: getNumOfAmpersand(x))  \n",
    "urlDataset.head()"
   ]
  },
  {
   "cell_type": "code",
   "execution_count": null,
   "id": "955b6ab5-68b0-49ed-a65f-87442c3ccd7f",
   "metadata": {},
   "outputs": [],
   "source": [
    "#Number of character '_'\n",
    "def getNumOfUnderscore(url):\n",
    "    return url.count('_')\n",
    "\n",
    "#apply the function to all the urls in dataset\n",
    "urlDataset['\"_\"'] = urlDataset['url'].apply(lambda x: getNumOfUnderscore(x))  \n",
    "urlDataset.head()"
   ]
  },
  {
   "cell_type": "code",
   "execution_count": null,
   "id": "77dd880e-d042-4dce-ab4f-3e787a91b069",
   "metadata": {},
   "outputs": [],
   "source": [
    "#Number of character '='\n",
    "def getNumOfEqual(url):\n",
    "    return url.count('=')\n",
    "\n",
    "#apply the function to all the urls in dataset\n",
    "urlDataset['\"=\"'] = urlDataset['url'].apply(lambda x: getNumOfEqual(x))  \n",
    "urlDataset.head()"
   ]
  },
  {
   "cell_type": "code",
   "execution_count": null,
   "id": "92e392c3-c694-46cb-a94e-c2fee7e4932f",
   "metadata": {},
   "outputs": [],
   "source": [
    "#Number of character '!'\n",
    "def getNumOfExclamationMark(url):\n",
    "    return url.count('!')\n",
    "\n",
    "#apply the function to all the urls in dataset\n",
    "urlDataset['\"!\"'] = urlDataset['url'].apply(lambda x: getNumOfExclamationMark(x))  \n",
    "urlDataset.head()"
   ]
  },
  {
   "cell_type": "code",
   "execution_count": null,
   "id": "16fd6acb-0029-4f28-9422-81f58dd92909",
   "metadata": {},
   "outputs": [],
   "source": [
    "#Number of digits\n",
    "def getNumOfDigits(url):\n",
    "    noOfDigits = 0\n",
    "    noOfDigits = sum(c.isdigit() for c in url)\n",
    "    return noOfDigits\n",
    "\n",
    "#apply the function to all the urls in dataset\n",
    "urlDataset['noOfDigits'] = urlDataset['url'].apply(lambda x: getNumOfDigits(x))  \n",
    "urlDataset.head()"
   ]
  },
  {
   "cell_type": "code",
   "execution_count": null,
   "id": "5bb60d05-bfbb-45a8-9582-050f8ee699e4",
   "metadata": {},
   "outputs": [],
   "source": [
    "#Number of letters\n",
    "def getNumOfLetters(url):\n",
    "    noOfLetters = 0\n",
    "    noOfLetters = sum(c.isalpha() for c in url)\n",
    "    return noOfLetters\n",
    "\n",
    "#apply the function to all the urls in dataset\n",
    "urlDataset['noOfLetters'] = urlDataset['url'].apply(lambda x: getNumOfLetters(x))  \n",
    "urlDataset.head()"
   ]
  },
  {
   "cell_type": "code",
   "execution_count": null,
   "id": "cb89606b-484c-4bd6-8f9b-47ca98b62017",
   "metadata": {},
   "outputs": [],
   "source": [
    "#Number of directories\n",
    "def getNumOfDirectories(url):\n",
    "    try:\n",
    "        path = urlparse(url).path\n",
    "        noOfDirectories = 0\n",
    "        noOfDirectories = path.count('/')\n",
    "        return noOfDirectories\n",
    "    except:\n",
    "        return 0\n",
    "\n",
    "#apply the function to all the urls in dataset\n",
    "urlDataset['noOfDir'] = urlDataset['url'].apply(lambda x: getNumOfDirectories(x))  \n",
    "urlDataset.head()"
   ]
  },
  {
   "cell_type": "code",
   "execution_count": null,
   "id": "f0eba6bb-9408-4ccd-9c08-57d58102696a",
   "metadata": {},
   "outputs": [],
   "source": [
    "#Use of IP (1-yes, 0-no)\n",
    "import re\n",
    "def hasIP(url):\n",
    "    checkIP = re.search('(([01]?\\\\d\\\\d?|2[0-4]\\\\d|25[0-5])\\\\.([01]?\\\\d\\\\d?|2[0-4]\\\\d|25[0-5])\\\\.([01]?\\\\d\\\\d?|2[0-4]\\\\d|25[0-5])\\\\.'\n",
    "        '([01]?\\\\d\\\\d?|2[0-4]\\\\d|25[0-5])\\\\/)|' \n",
    "        '((0x[0-9a-fA-F]{1,2})\\\\.(0x[0-9a-fA-F]{1,2})\\\\.(0x[0-9a-fA-F]{1,2})\\\\.(0x[0-9a-fA-F]{1,2})\\\\/)'\n",
    "        '(?:[a-fA-F0-9]{1,4}:){7}[a-fA-F0-9]{1,4}',url)\n",
    "    if checkIP:\n",
    "        return 1\n",
    "    else:\n",
    "        return 0\n",
    "        \n",
    "#apply the function to all the urls in dataset\n",
    "urlDataset['hasIP'] = urlDataset['url'].apply(lambda x: hasIP(x))  \n",
    "urlDataset.head()"
   ]
  },
  {
   "cell_type": "code",
   "execution_count": null,
   "id": "16428afc-b788-478e-b484-96fb6866edf1",
   "metadata": {},
   "outputs": [],
   "source": [
    "#URL entropy - \n",
    "from scipy.stats import entropy\n",
    "import math\n",
    "def getEntropy(url):\n",
    "    url = url.lower()\n",
    "    uniqueCharacters = set(url) #extracts the unique characters of the url\n",
    "    probs = (url.count(c) / len(url) for c in uniqueCharacters) #probabilities of each unique character are calculated by counting their occurrences and dividing by the total URL length.\n",
    "    e = -sum([p * math.log(p) / math.log(2.0) for p in probs]) # Calculate entropy using the Shannon entropy formula\n",
    "    return e\n",
    "\n",
    "#apply the function to all the urls in dataset\n",
    "urlDataset['entropy'] = urlDataset['url'].apply(lambda x: getEntropy(x))  \n",
    "urlDataset.head()"
   ]
  },
  {
   "cell_type": "code",
   "execution_count": null,
   "id": "9684996d-749a-485a-8b33-d6187347d6a7",
   "metadata": {},
   "outputs": [],
   "source": [
    "#has HTTP\n",
    "def hashttp(url):\n",
    "   if url.startswith('http://'):\n",
    "       return 1\n",
    "   else:\n",
    "       return 0\n",
    "\n",
    "\n",
    "#apply the function to all the urls in dataset\n",
    "urlDataset['hasHttp'] = urlDataset['url'].apply(lambda x: hashttp(x))  \n",
    "urlDataset.head()"
   ]
  },
  {
   "cell_type": "code",
   "execution_count": null,
   "id": "cdb67647-ebd0-42ee-ada4-7bb06bc8d578",
   "metadata": {},
   "outputs": [],
   "source": [
    "#has HTTPS\n",
    "def hashttps(url):\n",
    "   if url.startswith('https://'):\n",
    "       return 1\n",
    "   else:\n",
    "       return 0\n",
    "\n",
    "#apply the function to all the urls in dataset\n",
    "urlDataset['hasHttps'] = urlDataset['url'].apply(lambda x: hashttps(x))  \n",
    "urlDataset.head()"
   ]
  },
  {
   "cell_type": "code",
   "execution_count": null,
   "id": "314d2fd2-5f1a-464a-a53c-02eb8cdbb4bc",
   "metadata": {},
   "outputs": [],
   "source": [
    "def fdLength(url):\n",
    "    try:\n",
    "        urlpath= urlparse(url).path\n",
    "        return len(urlpath.split('/')[1])\n",
    "    except:\n",
    "        return 0\n",
    "urlDataset['fdLength'] = urlDataset['url'].apply(lambda x: fdLength(x))\n",
    "urlDataset.head()"
   ]
  },
  {
   "cell_type": "code",
   "execution_count": null,
   "id": "5fcd0fbf-5706-4b0f-a36e-59912709d0d8",
   "metadata": {},
   "outputs": [],
   "source": [
    "def numParameters(url):\n",
    "        params = url.split('&')\n",
    "        return len(params) - 1\n",
    "urlDataset['numParameters'] = urlDataset['url'].apply(lambda x: numParameters(x))"
   ]
  },
  {
   "cell_type": "code",
   "execution_count": null,
   "id": "6ee6b2c1-f033-4a49-98fd-3c3e75b0ac06",
   "metadata": {},
   "outputs": [],
   "source": [
    "def numSubDomains(url):\n",
    "        subdomains = url.split('//')[-1].split('/')\n",
    "        return len(subdomains)-1\n",
    "\n",
    "urlDataset['numSubDomains'] = urlDataset['url'].apply(lambda x: numSubDomains(x))\n",
    "urlDataset.head()"
   ]
  },
  {
   "cell_type": "code",
   "execution_count": null,
   "id": "d947bee2-6060-40b1-9448-814fe6d74211",
   "metadata": {},
   "outputs": [],
   "source": [
    "#features\n",
    "x = urlDataset[['urlType_numeric','urlLength',\n",
    "       'hostnameLength', 'pathLength', 'tldLength', '\"-\"', '\"?\"', '\"@\"',\n",
    "       '\"%\"','\"/\"', '\".\"','\"&\"','\"_\"', '\"=\"', '\"!\"','noOfDigits','noOfLetters', 'noOfDir', 'hasIP', 'entropy', 'hasHttp', 'hasHttps',\n",
    "       'fdLength','numParameters','numSubDomains']]\n",
    "x.head()"
   ]
  },
  {
   "cell_type": "code",
   "execution_count": null,
   "id": "0bd53788-58ad-42dc-8f1a-5e228213e7bb",
   "metadata": {},
   "outputs": [],
   "source": [
    "def labels(url):\n",
    "    if url.startswith(\"http://\"):\n",
    "        return 1 \n",
    "    elif url.startswith(\"https://\"):\n",
    "        return 2  \n",
    "    else:\n",
    "        return 0\n",
    "\n",
    "urlDataset['labels'] = urlDataset['url'].apply(lambda x: labels(x))"
   ]
  },
  {
   "cell_type": "code",
   "execution_count": null,
   "id": "ff088379-25bf-428d-bf47-2c197dc56dcf",
   "metadata": {},
   "outputs": [],
   "source": [
    "y1 = urlDataset['labels']"
   ]
  },
  {
   "cell_type": "code",
   "execution_count": null,
   "id": "99bc575a-bb3e-491e-be56-5a0e97bf211b",
   "metadata": {},
   "outputs": [],
   "source": [
    "import pandas as pd\n",
    "from imblearn.over_sampling import SMOTE\n",
    "\n",
    "smote = SMOTE(sampling_strategy='auto', random_state=42)\n",
    "X_resampled, y_resampled = smote.fit_resample(x, y1)"
   ]
  },
  {
   "cell_type": "code",
   "execution_count": null,
   "id": "db91efc7-7f59-43c8-a3ba-d1fc8dc2c926",
   "metadata": {},
   "outputs": [],
   "source": [
    "resampled_data = pd.DataFrame(X_resampled)\n",
    "\n",
    "http_count = len(resampled_data[(resampled_data['hasHttp'] == 1)])\n",
    "https_count = len(resampled_data[(resampled_data['hasHttps'] == 1)])\n",
    "no_protocol_count = len(resampled_data[(resampled_data['hasHttp'] == 0) & (resampled_data['hasHttps'] == 0)])\n",
    "\n",
    "http = len(x[(x['hasHttp'] == 1)])\n",
    "https = len(x[(x['hasHttps'] == 1)])\n",
    "no_protocol = len(x[(x['hasHttp'] == 0) & (x['hasHttps'] == 0)])\n",
    "\n",
    "print(\"HTTP URLs count:\", http)\n",
    "print(\"HTTPS URLs count:\", https)\n",
    "print(\"No Protocol URLs count:\", no_protocol)\n",
    "\n",
    "print(\"HTTP URLs count:\", http_count)\n",
    "print(\"HTTPS URLs count:\", https_count)\n",
    "print(\"No Protocol URLs count:\", no_protocol_count)"
   ]
  },
  {
   "cell_type": "code",
   "execution_count": null,
   "id": "4dc275c0-85bf-4d1b-89e6-418025c52a94",
   "metadata": {},
   "outputs": [],
   "source": [
    "#target \n",
    "y = resampled_data['urlType_numeric']\n",
    "y.head()"
   ]
  },
  {
   "cell_type": "code",
   "execution_count": null,
   "id": "742c70e0-6730-4f63-b3ba-93ceac4f6bae",
   "metadata": {},
   "outputs": [],
   "source": [
    "resampled_data = resampled_data.drop('urlType_numeric', axis=1)"
   ]
  },
  {
   "cell_type": "code",
   "execution_count": null,
   "id": "17e59e83-a464-4554-8e64-b415a63f74f9",
   "metadata": {},
   "outputs": [],
   "source": [
    "#split the training and testing data\n",
    "X_train, X_test, Y_train, Y_test = train_test_split(resampled_data, y, test_size=0.3, shuffle=True,random_state=42)\n",
    "print(f\"X_train Shape : {X_train.shape}\")\n",
    "print(f\"X_test  Shape : {X_test.shape}\")"
   ]
  },
  {
   "cell_type": "code",
   "execution_count": null,
   "id": "e90d0756-8045-4f99-a47e-ab9c46504af8",
   "metadata": {},
   "outputs": [],
   "source": [
    "from collections import Counter\n",
    "\n",
    "#oversample the minor classes using SMOTE technique to avoid class imbalance\n",
    "count1 = Counter(Y_train) \n",
    "oversample = SMOTE()\n",
    "X_trainosm,Y_trainosm = oversample.fit_resample(X_train,Y_train)\n",
    "count2 = Counter(Y_trainosm)\n",
    "\n",
    "print(count1)\n",
    "print(count2)"
   ]
  },
  {
   "cell_type": "code",
   "execution_count": null,
   "id": "1a18ad24-a2fe-4176-8292-865a54b2fda0",
   "metadata": {},
   "outputs": [],
   "source": [
    "X_trainosm = pd.DataFrame(X_trainosm)"
   ]
  },
  {
   "cell_type": "code",
   "execution_count": null,
   "id": "63df714e-4cc5-4679-9b73-e2ed39a947c2",
   "metadata": {},
   "outputs": [],
   "source": [
    "X_trainosm.isnull().sum()"
   ]
  },
  {
   "cell_type": "code",
   "execution_count": null,
   "id": "e826b329-ec12-421f-b54f-d5643637f37a",
   "metadata": {},
   "outputs": [],
   "source": [
    "#Random Forest\n",
    "from sklearn.ensemble import RandomForestClassifier\n",
    "rfc = RandomForestClassifier(n_estimators=100,class_weight='balanced')"
   ]
  },
  {
   "cell_type": "code",
   "execution_count": null,
   "id": "f64cf3e8-11c4-4c1e-a1de-7fd04abb81aa",
   "metadata": {},
   "outputs": [],
   "source": [
    "rfc.fit(X_trainosm,Y_trainosm)"
   ]
  },
  {
   "cell_type": "code",
   "execution_count": null,
   "id": "c15db37e-f6e7-4ee6-a8ce-ac275e0418e9",
   "metadata": {},
   "outputs": [],
   "source": [
    "rfc_predictions = rfc.predict(X_test)\n",
    "accuracy_score(Y_test, rfc_predictions)"
   ]
  },
  {
   "cell_type": "code",
   "execution_count": null,
   "id": "3422b57b-8ce8-44f1-8b95-bdea0be4df48",
   "metadata": {},
   "outputs": [],
   "source": [
    "from sklearn.metrics import confusion_matrix, ConfusionMatrixDisplay\n",
    "cm = confusion_matrix(Y_test,rfc_predictions)\n",
    "cmDisplay = ConfusionMatrixDisplay(cm,display_labels=['benign','malicious'])\n",
    "cmDisplay.plot()"
   ]
  },
  {
   "cell_type": "code",
   "execution_count": null,
   "id": "821eddc7-a71c-4569-b60a-1e652395d222",
   "metadata": {},
   "outputs": [],
   "source": [
    "y_true = Y_test\n",
    "y_pred = rfc_predictions\n",
    "TN = cm[0][0]\n",
    "FP = cm[0][1]\n",
    "specificity = TN/(TN+FP)\n",
    "print(specificity)"
   ]
  },
  {
   "cell_type": "code",
   "execution_count": null,
   "id": "8dca7900-73fb-4bb1-8006-f1c9d439845c",
   "metadata": {},
   "outputs": [],
   "source": [
    "TP = cm[1][1]\n",
    "FN = cm[1][0]\n",
    "sensitivity = TP/(TP+FN)\n",
    "print(sensitivity)"
   ]
  },
  {
   "cell_type": "code",
   "execution_count": null,
   "id": "ea9133e7-8efa-4144-861f-885ace6f5ac2",
   "metadata": {},
   "outputs": [],
   "source": [
    "print(classification_report(Y_test,rfc_predictions,target_names=['benign', 'malicious']))"
   ]
  },
  {
   "cell_type": "code",
   "execution_count": null,
   "id": "7e191029-84f6-471b-81fc-18187b5108fe",
   "metadata": {},
   "outputs": [],
   "source": [
    "featureImportance = pd.Series(rfc.feature_importances_, index=X_trainosm.columns)\n",
    "featureImportance.sort_values().plot(kind=\"barh\",figsize=(8, 6))"
   ]
  },
  {
   "cell_type": "code",
   "execution_count": null,
   "id": "6bee038e-4efc-4b00-8ac8-994d694ad831",
   "metadata": {},
   "outputs": [],
   "source": [
    "feature_names = X_trainosm.columns"
   ]
  },
  {
   "cell_type": "code",
   "execution_count": null,
   "id": "3506a135-1e1a-4b02-a0dd-44c980de4cf1",
   "metadata": {},
   "outputs": [],
   "source": [
    "import joblib\n",
    "urlModel = joblib.load(\"url_model_final.pkl\")"
   ]
  },
  {
   "cell_type": "code",
   "execution_count": null,
   "id": "acc85679-39c8-48b0-a723-398137a5f7bd",
   "metadata": {},
   "outputs": [],
   "source": [
    "#make predictions\n",
    "def featureExtraction(url):\n",
    "    features = []\n",
    "    features.append(getUrlLength(url))\n",
    "    features.append(getHostnameLength(url))\n",
    "    features.append(getPathLength(url))\n",
    "    features.append(getTldLength(url))\n",
    "    features.append(getNumOfHyphen(url))\n",
    "    features.append(getNumOfAt(url))\n",
    "    features.append(getNumOfQueMark(url))\n",
    "    features.append(getNumOfPercMark(url))\n",
    "    features.append(getNumOfSlash(url))\n",
    "    features.append(getNumOfFullstop(url))\n",
    "    features.append(getNumOfAmpersand(url))\n",
    "    features.append(getNumOfUnderscore(url))\n",
    "    features.append(getNumOfEqual(url))\n",
    "    features.append(getNumOfExclamationMark(url))\n",
    "    features.append(getNumOfDigits(url))\n",
    "    features.append(getNumOfLetters(url))\n",
    "    features.append(getNumOfDirectories(url))\n",
    "    features.append(hasIP(url))\n",
    "    features.append(getEntropy(url))\n",
    "    features.append(hashttp(url))\n",
    "    features.append(hashttps(url))\n",
    "    features.append(fdLength(url))\n",
    "    features.append(numParameters(url))\n",
    "    features.append(numSubDomains(url))\n",
    "    return features"
   ]
  },
  {
   "cell_type": "code",
   "execution_count": null,
   "id": "ed170234-5c33-4293-8b21-8b52682d22ea",
   "metadata": {},
   "outputs": [],
   "source": []
  },
  {
   "cell_type": "code",
   "execution_count": null,
   "id": "29288be9-b8ea-49f5-9e6e-73736bbb4053",
   "metadata": {},
   "outputs": [],
   "source": [
    "def makePrediction(url):\n",
    "    featuresTest = []\n",
    "   \n",
    "    featuresTest = featureExtraction(url)\n",
    "    reshapedFeatures = np.array(featuresTest).reshape((1, -1))\n",
    "    reshapedFeatures_df = pd.DataFrame(reshapedFeatures)\n",
    "    prediction = urlModel.predict(reshapedFeatures_df)\n",
    "    if int(prediction[0]) == 0:\n",
    "        status=\"Benign\"\n",
    "        return status\n",
    "    elif int(prediction[0]) == 1:\n",
    "        status=\"Malicious\"\n",
    "        return status"
   ]
  },
  {
   "cell_type": "code",
   "execution_count": null,
   "id": "6cc1c799-c035-4f86-98f0-3dfdea2c6ec5",
   "metadata": {},
   "outputs": [],
   "source": [
    "#pass entered url\n",
    "print(makePrediction('imetrica.net/css/'))"
   ]
  },
  {
   "cell_type": "code",
   "execution_count": null,
   "id": "809bc191-6386-42d9-9e4d-cd03153f9332",
   "metadata": {},
   "outputs": [],
   "source": [
    "#Save the model to a file\n",
    "#import joblib\n",
    "#filename = 'url_model_final.pkl'\n",
    "#joblib.dump(rfc,filename)"
   ]
  },
  {
   "cell_type": "code",
   "execution_count": null,
   "id": "32b25fa4-7155-49a3-baa4-064a39ffa223",
   "metadata": {},
   "outputs": [],
   "source": []
  }
 ],
 "metadata": {
  "kernelspec": {
   "display_name": "Python 3 (ipykernel)",
   "language": "python",
   "name": "python3"
  },
  "language_info": {
   "codemirror_mode": {
    "name": "ipython",
    "version": 3
   },
   "file_extension": ".py",
   "mimetype": "text/x-python",
   "name": "python",
   "nbconvert_exporter": "python",
   "pygments_lexer": "ipython3",
   "version": "3.11.5"
  }
 },
 "nbformat": 4,
 "nbformat_minor": 5
}
